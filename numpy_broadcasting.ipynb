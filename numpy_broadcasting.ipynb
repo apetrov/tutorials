{
 "cells": [
  {
   "cell_type": "code",
   "execution_count": 1,
   "id": "9fa4e2cb-de99-4bda-90ae-64b74baa1a10",
   "metadata": {},
   "outputs": [],
   "source": [
    "import numpy as np"
   ]
  },
  {
   "cell_type": "code",
   "execution_count": 4,
   "id": "1d9762c2-988b-45dc-bfc8-37aae1a20968",
   "metadata": {},
   "outputs": [
    {
     "data": {
      "text/plain": [
       "array([[2., 2., 2.],\n",
       "       [2., 2., 2.]])"
      ]
     },
     "execution_count": 4,
     "metadata": {},
     "output_type": "execute_result"
    }
   ],
   "source": [
    "# same shape\n",
    "np.ones(shape=(2,3)) + np.ones(shape=(2,3))"
   ]
  },
  {
   "cell_type": "code",
   "execution_count": 6,
   "id": "1dfce13b-f838-44c0-ae8d-21fa51d0b347",
   "metadata": {},
   "outputs": [
    {
     "data": {
      "text/plain": [
       "array([[2., 2., 2.],\n",
       "       [2., 2., 2.]])"
      ]
     },
     "execution_count": 6,
     "metadata": {},
     "output_type": "execute_result"
    }
   ],
   "source": [
    "# broadcasting first axis\n",
    "# transform second array into (1,3) then into (2,3)\n",
    "np.ones(shape=(2,3)) + np.ones(shape=(3))"
   ]
  },
  {
   "cell_type": "code",
   "execution_count": 7,
   "id": "4e3c0b41-be07-4248-b0ad-c97bd9682354",
   "metadata": {},
   "outputs": [
    {
     "data": {
      "text/plain": [
       "array([[2., 2., 2.],\n",
       "       [2., 2., 2.]])"
      ]
     },
     "execution_count": 7,
     "metadata": {},
     "output_type": "execute_result"
    }
   ],
   "source": [
    "# same thing\n",
    "np.ones(shape=(2,3)) + np.ones(shape=(1, 3))"
   ]
  },
  {
   "cell_type": "code",
   "execution_count": 9,
   "id": "b5ba7b9f-9ab4-46b2-8636-64a699a52aee",
   "metadata": {},
   "outputs": [
    {
     "data": {
      "text/plain": [
       "array([[2., 2., 2.],\n",
       "       [2., 2., 2.]])"
      ]
     },
     "execution_count": 9,
     "metadata": {},
     "output_type": "execute_result"
    }
   ],
   "source": [
    "# scalar -> (1) -> (3) -> (1,3) -> (2,3)\n",
    "np.ones(shape=(2,3)) + 1"
   ]
  },
  {
   "cell_type": "code",
   "execution_count": 19,
   "id": "9c15cae0-c283-4f5c-9ec3-7a4e5101fe39",
   "metadata": {},
   "outputs": [
    {
     "data": {
      "text/plain": [
       "(4, 3, 2)"
      ]
     },
     "execution_count": 19,
     "metadata": {},
     "output_type": "execute_result"
    }
   ],
   "source": [
    "# concat arrays along 3rd axis (new)\n",
    "np.stack(\n",
    "    [\n",
    "        np.ones(shape=(4,3)),\n",
    "        np.ones(shape=(4,3)),\n",
    "    ],\n",
    "    axis=2\n",
    ").shape"
   ]
  },
  {
   "cell_type": "code",
   "execution_count": 20,
   "id": "a6b1d22d-1122-411c-bff0-c05e5c7c3b4b",
   "metadata": {},
   "outputs": [
    {
     "name": "stdout",
     "output_type": "stream",
     "text": [
      "all input arrays must have the same shape\n"
     ]
    }
   ],
   "source": [
    "# not working! broadcasting has to be manual\n",
    "try:\n",
    "    np.stack(\n",
    "        [\n",
    "            np.ones(shape=(4,3)),\n",
    "            np.ones(shape=(3)),\n",
    "        ],\n",
    "        axis=2\n",
    "    ).shape\n",
    "except ValueError as e:\n",
    "    print(e)"
   ]
  },
  {
   "cell_type": "code",
   "execution_count": 22,
   "id": "b3b17cae-52cb-4a1c-8fde-0c098ccee88f",
   "metadata": {},
   "outputs": [
    {
     "data": {
      "text/plain": [
       "(4, 3, 2)"
      ]
     },
     "execution_count": 22,
     "metadata": {},
     "output_type": "execute_result"
    }
   ],
   "source": [
    "# rightway is to broadcast manually first\n",
    "\n",
    "np.stack(\n",
    "        [\n",
    "            np.ones(shape=(4,3)),\n",
    "            np.broadcast_to(np.ones(shape=(3)), (4,3)),\n",
    "        ],\n",
    "        axis=2\n",
    "    ).shape"
   ]
  }
 ],
 "metadata": {
  "kernelspec": {
   "display_name": "Python 3",
   "language": "python",
   "name": "python3"
  },
  "language_info": {
   "codemirror_mode": {
    "name": "ipython",
    "version": 3
   },
   "file_extension": ".py",
   "mimetype": "text/x-python",
   "name": "python",
   "nbconvert_exporter": "python",
   "pygments_lexer": "ipython3",
   "version": "3.8.10"
  }
 },
 "nbformat": 4,
 "nbformat_minor": 5
}
