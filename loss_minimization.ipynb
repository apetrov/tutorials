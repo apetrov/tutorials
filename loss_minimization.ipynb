{
 "cells": [
  {
   "cell_type": "code",
   "execution_count": 3,
   "metadata": {},
   "outputs": [],
   "source": [
    "import numpy as np\n",
    "from scipy.optimize import minimize\n",
    "from scipy.special import expit"
   ]
  },
  {
   "cell_type": "code",
   "execution_count": 4,
   "metadata": {},
   "outputs": [],
   "source": [
    "xs = np.array([0.1, 0.8, 1.0, 1.3])\n",
    "ys = np.array([0, 0.05, 0.8, 0.99])"
   ]
  },
  {
   "cell_type": "code",
   "execution_count": 5,
   "metadata": {},
   "outputs": [],
   "source": [
    "def f(a,b, x):\n",
    "    return expit(a*(x - b)) \n",
    "\n",
    "def loss(ab):\n",
    "    return np.sum( (f(*ab,xs) - ys)**2 )\n",
    "\n",
    "def f(a,b, x):\n",
    "    z = a*x + b\n",
    "    return (z/np.sqrt(1 + z**2) + 1)/2\n"
   ]
  },
  {
   "cell_type": "code",
   "execution_count": 6,
   "metadata": {},
   "outputs": [
    {
     "data": {
      "text/plain": [
       "      fun: 3.1003154436819183e-06\n",
       " hess_inv: array([[ 7654.41541166, -7618.05876289],\n",
       "       [-7618.05876289,  7589.44097962]])\n",
       "      jac: array([3.70306594e-07, 5.14520622e-07])\n",
       "  message: 'Optimization terminated successfully.'\n",
       "     nfev: 66\n",
       "      nit: 21\n",
       "     njev: 22\n",
       "   status: 0\n",
       "  success: True\n",
       "        x: array([ 14.0762271 , -13.32622872])"
      ]
     },
     "execution_count": 6,
     "metadata": {},
     "output_type": "execute_result"
    }
   ],
   "source": [
    "minimize(loss, np.array([1,0]))"
   ]
  },
  {
   "cell_type": "code",
   "execution_count": null,
   "metadata": {},
   "outputs": [],
   "source": []
  }
 ],
 "metadata": {
  "kernelspec": {
   "display_name": "Python 3",
   "language": "python",
   "name": "python3"
  },
  "language_info": {
   "codemirror_mode": {
    "name": "ipython",
    "version": 3
   },
   "file_extension": ".py",
   "mimetype": "text/x-python",
   "name": "python",
   "nbconvert_exporter": "python",
   "pygments_lexer": "ipython3",
   "version": "3.8.10"
  }
 },
 "nbformat": 4,
 "nbformat_minor": 4
}
